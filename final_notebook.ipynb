{
 "cells": [
  {
   "cell_type": "code",
   "execution_count": 19,
   "id": "aaa84f9d",
   "metadata": {},
   "outputs": [],
   "source": [
    "import numpy as np\n",
    "from scipy.integrate import quad\n",
    "from scipy.integrate import odeint \n",
    "import matplotlib.pyplot as plt"
   ]
  },
  {
   "cell_type": "code",
   "execution_count": 20,
   "id": "503bcdfe",
   "metadata": {},
   "outputs": [
    {
     "data": {
      "application/javascript": [
       "MathJax.Hub.Config({\n",
       "    TeX: { equationNumbers: { autoNumber: \"AMS\" } }\n",
       "});\n"
      ],
      "text/plain": [
       "<IPython.core.display.Javascript object>"
      ]
     },
     "metadata": {},
     "output_type": "display_data"
    }
   ],
   "source": [
    "%%javascript\n",
    "MathJax.Hub.Config({\n",
    "    TeX: { equationNumbers: { autoNumber: \"AMS\" } }\n",
    "});"
   ]
  },
  {
   "cell_type": "markdown",
   "id": "e3a60a12",
   "metadata": {},
   "source": [
    "$\\text{Exercise 1}$\n",
    "\n",
    "Write a Python code to compute and display the integrals bellow using the Python function $quad$\n",
    "$$A = \\int_{0}^{2} \\dfrac{x^3+5x-20}{x^2+3}dx$$\n",
    "\n",
    "$$B = \\int_{3}^{5} \\bigg(x-\\frac{1}{3}\\bigg)\\sqrt{x^4-3}dx$$\n"
   ]
  },
  {
   "cell_type": "code",
   "execution_count": null,
   "id": "9541ceab",
   "metadata": {},
   "outputs": [],
   "source": []
  },
  {
   "cell_type": "markdown",
   "id": "1c7c068b",
   "metadata": {},
   "source": [
    "$\\text{Exercise 2}$\n",
    "\n",
    "1. Write code to solve the following system of ordinary differential equations\n",
    "$$\n",
    "\\begin{cases}\n",
    "\\dfrac{dx_1}{dt}& = & -\\dfrac{1}{2}x_1\\\\\\\\\n",
    "\\dfrac{dx_2}{dt}& = & \\dfrac{1}{2}x_1-\\dfrac{1}{4}x_2\\\\\\\\\n",
    "\\dfrac{dx_3}{dt}& = & \\dfrac{1}{4}x_2-\\dfrac{1}{6}x_3\n",
    "\\end{cases}, \\text{ on } [0,4]\n",
    "$$\n",
    "Subject to the initial conditions $x_1(0) = 1, x_2(0) = 1, x_3(0) = 1$ using the Python function <b>odeint</b> with $N=200$."
   ]
  },
  {
   "cell_type": "code",
   "execution_count": null,
   "id": "d87f4b7c",
   "metadata": {},
   "outputs": [],
   "source": []
  },
  {
   "cell_type": "markdown",
   "id": "83978fb5",
   "metadata": {},
   "source": [
    "2. The exact solution of the above system of ODEs is given by\n",
    "\n",
    "$$\n",
    "\\begin{cases}\n",
    "x_1(t)& = & e^{-t/2}\\\\\n",
    "x_2(t)& = & -2e^{-t/2}+3e^{-t/4}\\\\\n",
    "x_3(t)& = & \\dfrac{3}{2}e^{-t/2} - 9e^{-t/4} + \\dfrac{17}{2}e^{-t/6}\n",
    "\\end{cases}\n",
    "$$\n",
    "\n",
    "Use $Subplot$ to plot side by side\n",
    "\n",
    "- each exact and approximate solution in the same window\n",
    "- and their absolute error vs the time \n"
   ]
  },
  {
   "cell_type": "code",
   "execution_count": null,
   "id": "8e6fc620",
   "metadata": {},
   "outputs": [],
   "source": []
  },
  {
   "cell_type": "markdown",
   "id": "db9bd650",
   "metadata": {},
   "source": [
    "$\\text{Exercise 3} $ (Write our own function and compare it with $odeint$)\n",
    "\n",
    "Let $\\{ t_k\\}$ be a partition of $[a,b]$ such that $a=t_1<t_2<\\cdots<t_{N}=b$ and $H$ be the constant length of the $k$-th subinterval ($H = t_k - t_{k-1}$). Let us consider initial value problem\n",
    "\n",
    "\\begin{equation}\\label{eul2}\n",
    "  \\begin{cases}\n",
    "    \\dfrac{dz}{dt} = f(z,t),      & \\quad \\text{on } [a, b]\\\\\\\\\n",
    "    z(a) = c,\n",
    "  \\end{cases}\n",
    "\\end{equation}\n",
    "where $z,f,c\\in R^M$ i.e. $z = [x_1, x_2,\\cdots, x_{M}]$, $c = [x_1(a), x_2(a),\\cdots, x_{M}(a)]$ and $f = [f_1, f_2,\\cdots, f_{M}]$. Note that \\eqref{eul2} is a the general form of system of ODEs. \n",
    "\n",
    "Let $t, z_k,Z$ defined as follows $$t=[t_1,t_2,\\cdots,t_{N-1},t_{N}],\\quad z_k = [x_1(t_k), x_2(t_k),\\cdots, x_{M}(t_k)], \\quad\n",
    "Z =\\begin{pmatrix}\n",
    "x_1(t_1)& x_2(t_1)&\\cdots& x_{M}(t_1)\\\\\n",
    "x_1(t_2)& x_2(t_2)&\\cdots& x_{M}(t_2)\\\\\n",
    "\\vdots& \\vdots&\\ddots& \\vdots\\\\\n",
    "x_1(t_{N})& x_2(t_{N})&\\cdots& x_{M}(t_{N})\n",
    "\\end{pmatrix}\n",
    "$$\n",
    "\n",
    "1. Write a python function <b> EulerOdeSys </b> that takes $f,c,t$ and return the solution $Z$ of the initial value problem \\eqref{eul2} using Euler method i.e.\n",
    "$$ z_{k+1} = z_k + Hf(z_k,t_k) $$\n"
   ]
  },
  {
   "cell_type": "code",
   "execution_count": null,
   "id": "711792b3",
   "metadata": {},
   "outputs": [],
   "source": []
  },
  {
   "cell_type": "markdown",
   "id": "75ece121",
   "metadata": {},
   "source": [
    "2. Write a python function <b> RK4OdeSys </b> that takes $f,c,t$ and return the solution $Z$ of the initial value problem (1) using the fourth order Runge-Kutta method i.e.\n",
    "\n",
    "\\begin{equation}\n",
    "\\begin{cases}\n",
    "k_1 = f(z_k,t_k),\\\\\\\\\n",
    "k_2 = f(z_k+H\\dfrac{k_1}{2}, t_k + \\dfrac{H}{2}),\\\\\\\\\n",
    "k_3 = f(z_k+H\\dfrac{k_2}{2}, t_k + \\dfrac{H}{2}),\\\\\\\\\n",
    "k_4 = f(z_k+Hk_3, t_k + H),\\\\\\\\\n",
    "z_{k+1} = z_k + \\dfrac{H}{6}(k_1+2k_2+2k_3+k_4)\n",
    "\\end{cases}\n",
    "\\end{equation}\n",
    "\n"
   ]
  },
  {
   "cell_type": "code",
   "execution_count": null,
   "id": "331f138a",
   "metadata": {},
   "outputs": [],
   "source": []
  },
  {
   "cell_type": "markdown",
   "id": "89529cb8",
   "metadata": {},
   "source": [
    "3. Solve the system of ODEs in $Exercise2$ using your function <b> EulerOdeSys </b> and <b> RK4OdeSys </b> "
   ]
  },
  {
   "cell_type": "code",
   "execution_count": null,
   "id": "6b0d3eb9",
   "metadata": {},
   "outputs": [],
   "source": []
  },
  {
   "cell_type": "markdown",
   "id": "036d6fef",
   "metadata": {},
   "source": [
    "4. By plotting the absolute error in the approximate and exact solutions, tell us which function gives a more accurate solution of a system of ODEs."
   ]
  },
  {
   "cell_type": "code",
   "execution_count": null,
   "id": "cc4cfb99",
   "metadata": {},
   "outputs": [],
   "source": []
  },
  {
   "cell_type": "markdown",
   "id": "f8e2621e",
   "metadata": {},
   "source": [
    "From the plot above we can only conclude that the more accurate function is either <b>odeint</b> and <b>RK4</b> since they give a solution with the lowest error. To identify the more accurate solver, let us plot the absolute error between the exact and approximate solutions (obtained with <b>odeint</b> and <b>RK4</b>), tell us which function gives a more accurate solution of a system of ODEs."
   ]
  },
  {
   "cell_type": "code",
   "execution_count": null,
   "id": "2a628b81",
   "metadata": {},
   "outputs": [],
   "source": []
  },
  {
   "cell_type": "markdown",
   "id": "e068f883",
   "metadata": {},
   "source": [
    "$\\text{Exercise 4} $\n",
    "\n",
    "Consider heat conduction in a rod with constant heat conduction properties, $K>0$. The steady-state\n",
    "heat-conduction problem is then\n",
    "\n",
    "\\begin{equation}\n",
    "  \\begin{cases}\n",
    "    -K\\dfrac{d^2U}{dx^2} = g(x),      & \\quad x\\in (a, b)\\\\\\\\\n",
    "    U(a) = \\alpha,\\;\\; U(b) = \\beta.\n",
    "  \\end{cases}\n",
    "\\end{equation}\n",
    "\n",
    "Given a finite family of points $\\{x_i\\}$ for $i = 0,\\cdots, N$ defined by $x_i = a+ih$ with $h =\\dfrac{b−a}{N}$. Let us denote $U_i$ the approximate value of $U(x_i)$ for all $i= 0,\\cdots, N$.\n",
    "\n",
    "The backward Euler scheme applied to the steady-state\n",
    "heat-conduction problem gives\n",
    "\n",
    "\\begin{equation}\\label{secode}\n",
    "  \\begin{cases}\n",
    "    \\dfrac{K}{H^2}(-U_{i-1} +2U_i - U_{i+1}) = g(x_i),      & \\quad \\forall i= 1,2,\\cdots, N-1\\\\\\\\\n",
    "    U_0 = \\alpha,\\;\\; U_N = \\beta.\n",
    "  \\end{cases}\n",
    "\\end{equation}\n",
    "Note that the system \\eqref{secode} takes the form \n",
    "$$ AU = b $$.\n",
    "1. Write a Python function <b> MatGenerator </b> that takes $a,b,K, \\alpha, \\beta,N, g$ and return the matrix $A$ and vector $b$."
   ]
  },
  {
   "cell_type": "code",
   "execution_count": null,
   "id": "f13215ac",
   "metadata": {},
   "outputs": [],
   "source": []
  },
  {
   "cell_type": "markdown",
   "id": "0426ff57",
   "metadata": {},
   "source": [
    "2. Solve the steady-state heat-conduction problem for \n",
    "\n",
    "$$a=0, b= 1, K=1,\\alpha = -4, \\beta = 0, N= 100 \\text{ and } g(x) = -4(1+x)e^x $$"
   ]
  },
  {
   "cell_type": "code",
   "execution_count": null,
   "id": "dc943f52",
   "metadata": {},
   "outputs": [],
   "source": []
  },
  {
   "cell_type": "markdown",
   "id": "67a84981",
   "metadata": {},
   "source": [
    "3. The exact solution of the steady-state heat-conduction problem above is $U(x)=4(x-1)e^x$. Use Subplot to plot side by side\n",
    "    - the exact and approximate solutions against x\n",
    "    - the absolute error between the exact and the approximate solution against x"
   ]
  },
  {
   "cell_type": "code",
   "execution_count": null,
   "id": "8b79ab8d",
   "metadata": {},
   "outputs": [],
   "source": []
  },
  {
   "cell_type": "markdown",
   "id": "6a459ed9",
   "metadata": {},
   "source": [
    "4. If the parameter $K(x)$ varies with $x$, then the steady-state\n",
    "heat-conduction problem is then\n",
    "\n",
    "\\begin{equation}\n",
    "  \\begin{cases}\n",
    "    -\\dfrac{d}{dx}\\Bigl( K(x)\\dfrac{dU}{dx} \\Bigl) = g(x),      & \\quad x\\in (a, b)\\\\\\\\\n",
    "    U(a) = \\alpha,\\;\\; U(b) = \\beta.\n",
    "  \\end{cases}\n",
    "\\end{equation}\n",
    "\n",
    "\n",
    "In this case, the backward Euler scheme applied to the steady-state\n",
    "heat-conduction problem gives\n",
    "\n",
    "\\begin{equation}\\label{secode}\n",
    "  \\begin{cases}\n",
    "    \\dfrac{1}{H^2}\\Bigl(-K(x_{i-1/2})U_{i-1} +(K(x_{i-1/2})+K(x_{i+1/2}))U_i - K(x_{i+1/2})U_{i+1}\\Bigr) = g(x_i),      & \\quad \\forall i= 1,2,\\cdots, N-1\\\\\\\\\n",
    "    U_0 = \\alpha,\\;\\; U_N = \\beta,\n",
    "  \\end{cases}\n",
    "\\end{equation}\n",
    "where $x_{i+1/2} = x_i+H/2$.\n",
    "Note that the system \\eqref{secode} takes the form \n",
    "$$ AU = b $$.\n",
    "a. Write a Python function <b> MatGenerator1 </b> that takes $a,b,K, \\alpha, \\beta,N, g$ and return the matrix $A$ and vector $b$."
   ]
  },
  {
   "cell_type": "code",
   "execution_count": null,
   "id": "90d8b350",
   "metadata": {},
   "outputs": [],
   "source": []
  },
  {
   "cell_type": "markdown",
   "id": "bad8b4bf",
   "metadata": {},
   "source": [
    "b. Solve the steady-state heat-conduction problem for \n",
    "\n",
    "$$a=-1, b= 1, K(x)=x^2,\\alpha = -8, \\beta = 0, N= 100 \\text{ and } g(x) = -4(x^3+3x^2)e^{x+1} $$"
   ]
  },
  {
   "cell_type": "code",
   "execution_count": null,
   "id": "2befd4b0",
   "metadata": {},
   "outputs": [],
   "source": []
  },
  {
   "cell_type": "markdown",
   "id": "0fdfebb9",
   "metadata": {},
   "source": [
    "c. The exact solution of the steady-state heat-conduction problem above is $U(x)=4(x-1)e^{x+1}$. Use Subplot to plot side by side\n",
    "    - the exact and approximate solutions against x\n",
    "    - the absolute error between the exact and the approximate solution against x"
   ]
  },
  {
   "cell_type": "code",
   "execution_count": null,
   "id": "709b1552",
   "metadata": {},
   "outputs": [],
   "source": []
  },
  {
   "cell_type": "code",
   "execution_count": null,
   "id": "0eee876f",
   "metadata": {
    "id": "0eee876f",
    "outputId": "61bd1887-7db2-4d02-a0f8-285b0dff60f1"
   },
   "outputs": [
    {
     "data": {
      "text/plain": [
       "'/home/nadine/Desktop/PPQ2'"
      ]
     },
     "execution_count": 1,
     "metadata": {},
     "output_type": "execute_result"
    }
   ],
   "source": [
    "pwd"
   ]
  },
  {
   "cell_type": "code",
   "execution_count": null,
   "id": "91112c34",
   "metadata": {
    "id": "91112c34",
    "scrolled": true
   },
   "outputs": [],
   "source": [
    "import numpy as np\n",
    "from numpy.linalg import solve\n",
    "from scipy.optimize import fsolve\n",
    "from scipy.integrate import odeint, quad\n",
    "import matplotlib.pyplot as plt"
   ]
  },
  {
   "cell_type": "markdown",
   "id": "853fb2ef",
   "metadata": {
    "id": "853fb2ef"
   },
   "source": [
    "**Exercise 1** **<font color='red'> 4/4 </font>**\n",
    "\n",
    "1- Write a function, **ReverCase**, that takes one argument: A string ``s`` and returns another string ``t``. The string ``t`` should be constructed from ``s`` such that:\n",
    "* All **upper** case letters from ``s`` are changed into **lower** case.\n",
    "* All **lower** case letters from ``s`` are changed into **upper** case.\n",
    "* All characters from ``s`` that are not letters are **deleted**.\n",
    "\n",
    "Test your function **ReverCase**."
   ]
  },
  {
   "cell_type": "code",
   "execution_count": null,
   "id": "267e382d",
   "metadata": {
    "colab": {
     "base_uri": "https://localhost:8080/"
    },
    "executionInfo": {
     "elapsed": 10,
     "status": "ok",
     "timestamp": 1664607218556,
     "user": {
      "displayName": "Aline Uwimbabazi",
      "userId": "14739117772500056735"
     },
     "user_tz": -120
    },
    "id": "267e382d",
    "outputId": "8c6b9fc5-0988-4dbb-f6c9-93ea4857a540"
   },
   "outputs": [
    {
     "name": "stdout",
     "output_type": "stream",
     "text": [
      "ReverCase(Nadine Bisa345& Cyizere) =  nADINEbISAcYIZERE\n"
     ]
    }
   ],
   "source": [
    "#4pt\n",
    "def ReverCase(s):\n",
    "    t = \"\"\n",
    "    for i in s:\n",
    "        if i.isupper():\n",
    "            t += i.lower()\n",
    "        if i.islower():\n",
    "            t += i.upper()\n",
    "    return t\n",
    "print(\"ReverCase(Nadine Bisa345& Cyizere) = \",ReverCase(\"Nadine Bisa345& Cyizere\"))"
   ]
  },
  {
   "cell_type": "markdown",
   "id": "028e8d31",
   "metadata": {
    "id": "028e8d31"
   },
   "source": [
    "2- Write a function,**MaxNegMat** , that takes one argument: A 2D array ``M`` and:\n",
    "* For each **row** computes the maximum negative element.\n",
    "* Returns the **sum of those elements**.\n",
    "\n",
    "Test your function **MaxNegMat**\n",
    "\n",
    "<font color=red> (4/4) </font>"
   ]
  },
  {
   "cell_type": "code",
   "execution_count": null,
   "id": "e02cfe51",
   "metadata": {
    "colab": {
     "base_uri": "https://localhost:8080/"
    },
    "executionInfo": {
     "elapsed": 18,
     "status": "ok",
     "timestamp": 1664566965546,
     "user": {
      "displayName": "Sèdjro Salomon HOTEGNI",
      "userId": "07332333867378073375"
     },
     "user_tz": -180
    },
    "id": "e02cfe51",
    "outputId": "0b583efe-6c16-4967-b46b-9c13f8ceadaf"
   },
   "outputs": [
    {
     "name": "stdout",
     "output_type": "stream",
     "text": [
      "MaxNegMat([[-2,5],[-7,1],[-5,-1]]) =  -10\n"
     ]
    }
   ],
   "source": [
    "#4pt\n",
    "def neg(x):\n",
    "    b = []\n",
    "    for ne in x:\n",
    "        if ne < 0:\n",
    "            b.append(ne)\n",
    "    if len(b) == 0:\n",
    "        return 0\n",
    "    return max(b)\n",
    "\n",
    "def MaxNegMat(M):\n",
    "    som = 0\n",
    "    for i in range(len(M)):\n",
    "        som += neg(M[i])\n",
    "    return som\n",
    "print(\"MaxNegMat([[-2,5],[-7,1],[-5,-1]]) = \", MaxNegMat([[-2,5],[-7,1],[-5,-1]]))"
   ]
  },
  {
   "cell_type": "markdown",
   "id": "20b709ca",
   "metadata": {
    "id": "20b709ca"
   },
   "source": [
    "**Exercise 2<font color=red> (5/5) </font>**\n",
    "\n",
    "1-The cost of admission to a popular music concert was \n",
    "- 40 USD for 1 children and 1 male\n",
    "- 170 USD  for 4 children, 2 females and 3 males \n",
    "- 190 USD  for 5 children, 4 females and 2 males \n",
    "\n",
    "Transform the problem into a system of equation (as markdown in the cell below)"
   ]
  },
  {
   "cell_type": "markdown",
   "id": "e507521c",
   "metadata": {
    "id": "e507521c"
   },
   "source": [
    "#2pt\\\n",
    "x = Children, y = Female, z = Male\n",
    "\\begin{equation}\n",
    "\\begin{cases}\n",
    "    x + z = 40\\\\\n",
    "    4x + 2y + 3z = 170\\\\\n",
    "    5x + 4y + 2z = 190\n",
    "\\end{cases}\n",
    "\\end{equation}"
   ]
  },
  {
   "cell_type": "markdown",
   "id": "1a63c957",
   "metadata": {
    "id": "1a63c957"
   },
   "source": [
    "2- Write a Python code to compute and display how much was the admission for each child, female and male?"
   ]
  },
  {
   "cell_type": "code",
   "execution_count": null,
   "id": "9a8f29d1",
   "metadata": {
    "id": "9a8f29d1",
    "outputId": "a4836f54-92a8-43d0-9c98-906eb3655056"
   },
   "outputs": [
    {
     "name": "stdout",
     "output_type": "stream",
     "text": [
      "x =  9.999999999999996 y =  20.000000000000004 z =  30.000000000000007\n"
     ]
    }
   ],
   "source": [
    "#3pt\n",
    "A = np.array([[1, 0, 1], [4, 2, 3], [5, 4, 2]])\n",
    "b = np.array([40, 170, 190])\n",
    "x, y, z = np.linalg.solve(A,b)\n",
    "print(\"x = \", x, \"y = \", y, \"z = \", z)"
   ]
  },
  {
   "cell_type": "markdown",
   "id": "ad45149a",
   "metadata": {
    "id": "ad45149a"
   },
   "source": [
    "3- Using the Python in-built function fsolve with unitial guess $x=1, y=1$, write a Python code to solve the following system\n",
    "\n",
    "\\begin{equation}\n",
    "\\begin{cases}\n",
    "    x^2 + x = 2 - y\\\\\n",
    "    2e^x + 3y = 8\n",
    "\\end{cases}\n",
    "\\end{equation}\n",
    "\n",
    "<font color=red> 5/5 </font>"
   ]
  },
  {
   "cell_type": "code",
   "execution_count": null,
   "id": "a02b50f5",
   "metadata": {
    "id": "a02b50f5",
    "outputId": "48823d10-5b66-4e1f-e895-dc3c6fb54edb"
   },
   "outputs": [
    {
     "name": "stdout",
     "output_type": "stream",
     "text": [
      "x =  -3.5025076898226905e-12 y =  2.000000000000468\n"
     ]
    }
   ],
   "source": [
    "#5pt\n",
    "def myfunction(z):\n",
    "    x = z[0]\n",
    "    y = z[1]\n",
    "    \n",
    "    F = np.empty((2))\n",
    "    F[0] = x**2 + x + y - 2\n",
    "    F[1] = 2*np.exp(x) + 3*y - 8\n",
    "    return F\n",
    "\n",
    "z_g = np.array([1,1])\n",
    "z = fsolve(myfunction, z_g)\n",
    "print(\"x = \", z[0], \"y = \", z[1])"
   ]
  },
  {
   "cell_type": "markdown",
   "id": "103c0403",
   "metadata": {
    "id": "103c0403"
   },
   "source": [
    "**Exercise 3** <font color=red> (6.5/9) </font>\n",
    "\n",
    "1- Write a Python code to compute and display the integrals bellow using the Python function $quad$\n",
    "$$A = \\int_{0}^{2} \\dfrac{x^3+5x-20}{x^2+3}dx$$\n",
    "\n",
    "$$B = \\int_{3}^{5} \\bigg(x-\\frac{1}{3}\\bigg)\\sqrt{x^4-3}dx$$\n",
    "\n",
    "<font color=red> (4/4) </font>"
   ]
  },
  {
   "cell_type": "code",
   "execution_count": null,
   "id": "a68b1f64",
   "metadata": {
    "colab": {
     "base_uri": "https://localhost:8080/"
    },
    "executionInfo": {
     "elapsed": 529,
     "status": "ok",
     "timestamp": 1664700840620,
     "user": {
      "displayName": "Winnie Nakiyingi",
      "userId": "03704851010797325878"
     },
     "user_tz": -120
    },
    "id": "a68b1f64",
    "outputId": "b46aa235-d416-4134-9e05-ca505fecc63f"
   },
   "outputs": [
    {
     "name": "stdout",
     "output_type": "stream",
     "text": [
      "A =  -7.049316535735796 B =  124.40877284192784\n"
     ]
    }
   ],
   "source": [
    "#4pt\n",
    "f_a = lambda x : (x**3 + 5*x - 20) / (x**2 + 3)\n",
    "A = quad(f_a, 0, 2)\n",
    "f_b = lambda x : (x - (1/3)) * np.sqrt(x**4 - 3)\n",
    "B = quad(f_b, 3, 5)\n",
    "print(\"A = \", A[0], \"B = \", B[0])"
   ]
  },
  {
   "cell_type": "markdown",
   "id": "b71e2de0",
   "metadata": {
    "id": "b71e2de0"
   },
   "source": [
    "2- Let $\\{ x_k\\}$ be a partition of $[a,b]$ such that $a=x_0<x_1<\\cdots<x_{N-1}<x_N=b$ and $H$ be the length of the $k$-th subinterval ($H = x_k - x_{k-1}$),\n",
    "then we have \n",
    "$$\\int_a^bf(x)dx \\approx \\sum_{k=1}^N \\frac{f(x_{k-1})+f(x_k)}{2}H = Z$$\n",
    "\n",
    "\n",
    "Write a function named <b>Trap</b> that takes $a,b,H, f$ as inputs and return Z. Here, ``H = 0.001`` is the default value.\n",
    "\n",
    "<font color=red>(2.25/3) </font>\n",
    "\n",
    "<font color=red>Your definition of the summation Z is wrong </font>"
   ]
  },
  {
   "cell_type": "code",
   "execution_count": null,
   "id": "8ca95d0e",
   "metadata": {
    "id": "8ca95d0e"
   },
   "outputs": [],
   "source": [
    "#3pt\n",
    "def Trap(a, b, f, H = 0.001):\n",
    "    N = int((b-a)/H)\n",
    "    x = np.linspace(a, b, N+1)\n",
    "    Z = 0\n",
    "    for i in range(1, N+1):\n",
    "        Z += H*(x[i-1] + x[i])/2\n",
    "    return Z"
   ]
  },
  {
   "cell_type": "markdown",
   "id": "1faa66bc",
   "metadata": {
    "id": "1faa66bc"
   },
   "source": [
    "3- Compute the integrales A and B using your function **Trap**\n",
    "\n",
    "<font color=red>(0.25/2) </font>"
   ]
  },
  {
   "cell_type": "code",
   "execution_count": null,
   "id": "21198863",
   "metadata": {
    "colab": {
     "base_uri": "https://localhost:8080/"
    },
    "executionInfo": {
     "elapsed": 2071,
     "status": "ok",
     "timestamp": 1664609511034,
     "user": {
      "displayName": "Ange-Clement AKAZAN",
      "userId": "11896311223832369454"
     },
     "user_tz": -120
    },
    "id": "21198863",
    "outputId": "ea75260d-6db6-48f0-c510-8fd732eecb97"
   },
   "outputs": [
    {
     "name": "stdout",
     "output_type": "stream",
     "text": [
      "A =  1.9999999999999998 B =  8.0\n"
     ]
    }
   ],
   "source": [
    "#2pt\n",
    "f_A = lambda x : (x**3 + 5*x - 20) / (x**2 + 3)\n",
    "A_2 = Trap(0,2,f_A)\n",
    "f_B = lambda x : (x - 1/3) * np.sqrt(x**4 - 3)\n",
    "B_2 = Trap(3,5,f_B)\n",
    "print(\"A = \",A_2, \"B = \", B_2)"
   ]
  },
  {
   "cell_type": "markdown",
   "id": "4a5983cc",
   "metadata": {
    "id": "4a5983cc"
   },
   "source": [
    "**Exercise 4** <font color=red>(21/21) **_Excellent_** </font>\n",
    "\n",
    "Let $\\{ x_k\\}$ be a partition of $[a,b]$ such that $a=x_0<x_1<\\cdots<x_{N-1}<x_{N}=b$ and $H$ be the constant length of the $k$-th subinterval ($H = x_k - x_{k-1}$). Let consider the second-order differential equation\n",
    "\n",
    "\\begin{equation}\n",
    "  \\begin{cases}\n",
    "   \\dfrac{d^2 y}{dx^2} + 2\\dfrac{d y}{dx}=30e^{3x} \\qquad\\forall x\\in [a,b]\\\\\\\\\n",
    "\\dfrac{d y}{dx}(a)=8 , y(a) = 2 \n",
    "  \\end{cases}\n",
    "\\end{equation}\n",
    "\n",
    "Let $\\{ y_k\\}$ be the approximate solution i.e.  $y_k\\approx g(x_k)=g_k$ where $g$ is the exact solution.\n",
    "\n",
    "1- Using the Python in-built function **odeint**, write a python function <b> SODE </b> that takes $a,b,H$ (with $H= 0.001$ as default value) and return array of all $x_k$ and $y_k$\n",
    "\n",
    "- <font color=blue>Your function name should be **SODE** not **SODA**  </font>\n",
    "\n",
    "- <font color=blue>According to the problem you may consoder to have function **function** inside the function **SODA**  </font>"
   ]
  },
  {
   "cell_type": "code",
   "execution_count": null,
   "id": "16563084",
   "metadata": {
    "id": "16563084"
   },
   "outputs": [],
   "source": [
    "#5pt\n",
    "def function(z, x):\n",
    "    y,v = z\n",
    "    dydx = v\n",
    "    dvdx = -2*v + 30 *( np.exp(3*x))\n",
    "    return np.array([dydx, dvdx])\n",
    "\n",
    "def SODA(a, b, H = 0.001):\n",
    "    yi = np.array([2, 8])\n",
    "    N = int((b-a)/H)\n",
    "    x = np.linspace(a, b, N+1)\n",
    "    solution = odeint(function , yi, x)\n",
    "    return x, solution[:,0]"
   ]
  },
  {
   "cell_type": "markdown",
   "id": "f0657fe2",
   "metadata": {
    "id": "f0657fe2"
   },
   "source": [
    "2- Solve the second-order differential equation for $a = 0, b = 2$ and plot the solution."
   ]
  },
  {
   "cell_type": "code",
   "execution_count": null,
   "id": "c10d9b61",
   "metadata": {
    "colab": {
     "base_uri": "https://localhost:8080/",
     "height": 296
    },
    "executionInfo": {
     "elapsed": 896,
     "status": "ok",
     "timestamp": 1664715221354,
     "user": {
      "displayName": "Joseph Protas Ndenda",
      "userId": "09672348109881288478"
     },
     "user_tz": -120
    },
    "id": "c10d9b61",
    "outputId": "a5112971-690e-4186-eac0-ae5fc74abd02"
   },
   "outputs": [
    {
     "data": {
      "text/plain": [
       "Text(0, 0.5, 'yk')"
      ]
     },
     "execution_count": 3,
     "metadata": {},
     "output_type": "execute_result"
    },
    {
     "data": {
      "image/png": "[encoded data removed]",
      "text/plain": [
       "<Figure size 432x288 with 1 Axes>"
      ]
     },
     "metadata": {
      "needs_background": "light"
     },
     "output_type": "display_data"
    }
   ],
   "source": [
    "#4pt\n",
    "z = SODA(0, 2)\n",
    "xk = z[0]\n",
    "yk = z[1]\n",
    "plt.plot(xk,yk)\n",
    "plt.xlabel('xk')\n",
    "plt.ylabel('yk')"
   ]
  },
  {
   "cell_type": "markdown",
   "id": "eeffa518",
   "metadata": {
    "id": "eeffa518"
   },
   "source": [
    "3- The exact solution of the second-order differential equation is $g(x)= 2e^{3x}-e^{-2x}+1$. Plot the absolute value, $\\mid y_k - g_k\\mid$ against x_k."
   ]
  },
  {
   "cell_type": "code",
   "execution_count": null,
   "id": "451ba727",
   "metadata": {
    "colab": {
     "base_uri": "https://localhost:8080/",
     "height": 307
    },
    "executionInfo": {
     "elapsed": 18,
     "status": "ok",
     "timestamp": 1664715244510,
     "user": {
      "displayName": "Joseph Protas Ndenda",
      "userId": "09672348109881288478"
     },
     "user_tz": -120
    },
    "id": "451ba727",
    "outputId": "552c6655-7dc6-4849-99bc-b072a4bfbdbb"
   },
   "outputs": [
    {
     "data": {
      "text/plain": [
       "Text(0, 0.5, 'abs(yk - gk(xk)')"
      ]
     },
     "execution_count": 4,
     "metadata": {},
     "output_type": "execute_result"
    },
    {
     "data": {
      "image/png": "[encoded data removed]",
      "text/plain": [
       "<Figure size 432x288 with 1 Axes>"
      ]
     },
     "metadata": {
      "needs_background": "light"
     },
     "output_type": "display_data"
    }
   ],
   "source": [
    "#3pt\n",
    "gk = lambda x : 2 * np.exp(3*x) - np.exp(-2*x) + 1\n",
    "\n",
    "plt.plot(xk, abs(yk - gk(xk)))\n",
    "plt.xlabel('xk')\n",
    "plt.ylabel(\"abs(yk - gk(xk)\")"
   ]
  },
  {
   "cell_type": "markdown",
   "id": "2fabfad9",
   "metadata": {
    "id": "2fabfad9"
   },
   "source": [
    "4- Write a Write a function called **L2_error** that takes $a,b,H$ and return the L2 error, $L2Er$ between the exact and the approximate solution given by\n",
    "\n",
    "$$L2Er = \\sum_{k = 0}^N H(y_k - g_k)^2$$"
   ]
  },
  {
   "cell_type": "code",
   "execution_count": null,
   "id": "a328a8a6",
   "metadata": {
    "id": "a328a8a6"
   },
   "outputs": [],
   "source": [
    "#3pt h:vecotrization\n",
    "def L2_error(a, b, H):\n",
    "    YK = SODA(a,b,H)[1]\n",
    "    GK = gk(SODA(a,b,H)[0])\n",
    "    N = int((b-a)/H)\n",
    "    total = 0\n",
    "    for i in range(0, N+1):\n",
    "        total += (H*(YK[i] - GK[i])**2)\n",
    "    return total"
   ]
  },
  {
   "cell_type": "markdown",
   "id": "8f58ed2d",
   "metadata": {
    "id": "8f58ed2d"
   },
   "source": [
    "4- Let us denote $L2Er_j$ the output of **L2_error** for a given argument $a,b,H_j$. Compute the array of $L2Er_j$ for $a = 0, b=2$ and $H_j$ in an array $L =[ 10^{-1}, 10^{-2}, 10^{-3}, 10^{-4}]$."
   ]
  },
  {
   "cell_type": "code",
   "execution_count": null,
   "id": "36161f5a",
   "metadata": {
    "colab": {
     "base_uri": "https://localhost:8080/"
    },
    "executionInfo": {
     "elapsed": 4,
     "status": "ok",
     "timestamp": 1664715257206,
     "user": {
      "displayName": "Joseph Protas Ndenda",
      "userId": "09672348109881288478"
     },
     "user_tz": -120
    },
    "id": "36161f5a",
    "outputId": "5e058aa9-2a33-4fee-c887-9aa47b14ea3d"
   },
   "outputs": [
    {
     "name": "stdout",
     "output_type": "stream",
     "text": [
      "𝐿2𝐸𝑟𝑗 =  [1.76688197e-10 1.34088211e-10 1.29754197e-10 1.31295082e-10]\n"
     ]
    }
   ],
   "source": [
    "#3pt\n",
    "H = np.array([10**(-1),10**(-2),10**(-3),10**(-4)])\n",
    "𝐿2𝐸𝑟𝑗 = np.array([L2_error(0, 2, 10**(-1)),L2_error(0, 2, 10**(-2)),L2_error(0, 2, 10**(-3)), L2_error(0, 2, 10**(-4))])\n",
    "print(\"𝐿2𝐸𝑟𝑗 = \", 𝐿2𝐸𝑟𝑗)"
   ]
  },
  {
   "cell_type": "markdown",
   "id": "4db0cbcf",
   "metadata": {
    "id": "4db0cbcf"
   },
   "source": [
    "5- Plot the array of $L2Er_j$ against the array of $H_j$."
   ]
  },
  {
   "cell_type": "code",
   "execution_count": null,
   "id": "b4a36280",
   "metadata": {
    "colab": {
     "base_uri": "https://localhost:8080/",
     "height": 307
    },
    "executionInfo": {
     "elapsed": 1258,
     "status": "ok",
     "timestamp": 1664715267213,
     "user": {
      "displayName": "Joseph Protas Ndenda",
      "userId": "09672348109881288478"
     },
     "user_tz": -120
    },
    "id": "b4a36280",
    "outputId": "da582b38-5dae-45d1-93cf-4d5c67cead7e"
   },
   "outputs": [
    {
     "data": {
      "text/plain": [
       "Text(0, 0.5, 'L2Erj')"
      ]
     },
     "execution_count": 7,
     "metadata": {},
     "output_type": "execute_result"
    },
    {
     "data": {
      "image/png": "[encoded data removed]",
      "text/plain": [
       "<Figure size 432x288 with 1 Axes>"
      ]
     },
     "metadata": {
      "needs_background": "light"
     },
     "output_type": "display_data"
    }
   ],
   "source": [
    "#3pt\n",
    "plt.plot(H,𝐿2𝐸𝑟𝑗)\n",
    "plt.xlabel('H')\n",
    "plt.ylabel(\"L2Erj\")"
   ]
  }
 ],
 "metadata": {
  "kernelspec": {
   "display_name": "Python 3",
   "language": "python",
   "name": "python3"
  },
  "language_info": {
   "codemirror_mode": {
    "name": "ipython",
    "version": 3
   },
   "file_extension": ".py",
   "mimetype": "text/x-python",
   "name": "python",
   "nbconvert_exporter": "python",
   "pygments_lexer": "ipython3",
   "version": "3.9.2"
  }
 },
 "nbformat": 4,
 "nbformat_minor": 5
}
